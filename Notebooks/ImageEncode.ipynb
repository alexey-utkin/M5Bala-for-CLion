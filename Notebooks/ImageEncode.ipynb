{
 "cells": [
  {
   "cell_type": "code",
   "execution_count": 2,
   "metadata": {},
   "outputs": [],
   "source": [
    "import re\n",
    "from pathlib import Path\n",
    "from io import BytesIO, StringIO\n",
    "\n",
    "import pandas as pd\n",
    "import numpy as np\n",
    "import PIL\n",
    "import PIL.Image"
   ]
  },
  {
   "cell_type": "code",
   "execution_count": 5,
   "metadata": {},
   "outputs": [],
   "source": [
    "F_BALA_IMG_SRC = Path(\"/Users/nonlogical/Documents/Arduino/libraries/M5Bala2/src/bala_img.h\")\n",
    "F_IMG_JPG = Path(\"data/img.jpg\")\n",
    "F_IMG_JB_JPG = Path(\"data/img_jb.jpg\")\n",
    "F_IMG_JB_PNG = Path(\"data/img_jb.png\")"
   ]
  },
  {
   "cell_type": "code",
   "execution_count": 81,
   "metadata": {},
   "outputs": [],
   "source": [
    "def bala_img_decode():\n",
    "\timg_src_path = F_BALA_IMG_SRC\n",
    "\tout_img = F_IMG_JPG\n",
    "\n",
    "\timg_src_data_r = img_src_path.read_text()\n",
    "\timg_src_data = []\n",
    "\toctal_re = re.compile(r'(0x[a-f0-9]{2}),')\n",
    "\n",
    "\tfor l in img_src_data_r.splitlines():\n",
    "\t\tmatches = octal_re.finditer(l)\n",
    "\t\tfor m in matches:\n",
    "\t\t\timg_word = int(m.groups()[0], 16)\n",
    "\t\t\timg_src_data.append(img_word)\n",
    "\n",
    "\tout_img.write_bytes(np.array(img_src_data, dtype=np.uint8).tobytes())"
   ]
  },
  {
   "cell_type": "code",
   "execution_count": 12,
   "metadata": {},
   "outputs": [],
   "source": [
    "file_tpl = \"\"\"\n",
    "#ifndef __BALA_IMG_H\n",
    "#define __BALA_IMG_H\n",
    "\n",
    "#include \"Arduino.h\"\n",
    "\n",
    "const uint8_t bala_img[{data_len}] = {{\n",
    "{data}\n",
    "}};\n",
    "\n",
    "#endif\n",
    "\"\"\"\n",
    "\n",
    "def bala_img_encode():\n",
    "\tin_png = PIL.Image.open(F_IMG_JB_PNG)\n",
    "\tin_png.save(F_IMG_JB_JPG, format='JPEG', subsampling=0, quality=100)\n",
    "\tin_img = F_IMG_JB_JPG\n",
    "\tout_src = F_BALA_IMG_SRC\n",
    "\tin_img_b = bytearray(in_img.read_bytes())\n",
    "\tencoded_c_data = StringIO()\n",
    "\tfor i, b in enumerate(in_img_b):\n",
    "\t\tl_begin = i%16 == 0\n",
    "\t\tl_end = (i+1)%16 == 0\n",
    "\t\tend = \", \"\n",
    "\t\tprefix = \"\"\n",
    "\t\tif l_begin:\n",
    "\t\t\tprefix = \"    \"\n",
    "\t\tif l_end:\n",
    "\t\t\tend = \",\\n\"\n",
    "\t\tprint(\"%s0x%s\" % (prefix, hex(b)[2:].rjust(2, \"0\")), end=end, file=encoded_c_data)\n",
    "\n",
    "\tencoded_c_data.seek(0)\n",
    "\tout_src.write_text(file_tpl.format(data=encoded_c_data.read(), data_len=len(in_img_b)))\n",
    "\tprint(\"OK\")"
   ]
  },
  {
   "cell_type": "code",
   "execution_count": 13,
   "metadata": {},
   "outputs": [
    {
     "name": "stdout",
     "output_type": "stream",
     "text": [
      "OK\n"
     ]
    }
   ],
   "source": [
    "bala_img_encode()"
   ]
  }
 ],
 "metadata": {
  "kernelspec": {
   "display_name": "jbnotes-n0j6VEec-py3.12",
   "language": "python",
   "name": "python3"
  },
  "language_info": {
   "codemirror_mode": {
    "name": "ipython",
    "version": 3
   },
   "file_extension": ".py",
   "mimetype": "text/x-python",
   "name": "python",
   "nbconvert_exporter": "python",
   "pygments_lexer": "ipython3",
   "version": "3.12.5"
  }
 },
 "nbformat": 4,
 "nbformat_minor": 2
}
